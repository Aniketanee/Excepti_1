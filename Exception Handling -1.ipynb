{
 "cells": [
  {
   "cell_type": "markdown",
   "id": "c56f0059-1db3-4123-8f18-72ecea10a9ee",
   "metadata": {},
   "source": [
    "Exception handling Assignment - 1"
   ]
  },
  {
   "cell_type": "markdown",
   "id": "99b723a2-7f41-4c97-9b17-de0a0679ef84",
   "metadata": {},
   "source": [
    "Solution -1 "
   ]
  },
  {
   "cell_type": "markdown",
   "id": "ccba0ebb-07db-4461-82f7-6ba876e14b5b",
   "metadata": {},
   "source": [
    "An exception is an event that occurs during the execution of a program, which disrupts the normal flow of the program's instructions. When an exception occurs, the program stops executing its normal sequence of statements and jumps to a special block of code called an exception handler.\n",
    "Syntax Error - A syntax error occurs when the code you've written does not conform to the syntax rules of the programming language. These errors are detected by the Python interpreter before the code is executed.\n",
    "Exception -An exception is an error that occurs during the execution of a program due to unforeseen circumstances or incorrect logic. Exceptions are raised when the code is executing and encounters a situation that it doesn't know how to handle."
   ]
  },
  {
   "cell_type": "markdown",
   "id": "3848eaf9-4e14-4b01-a26a-231c42bf432b",
   "metadata": {},
   "source": [
    "Solution -2"
   ]
  },
  {
   "cell_type": "code",
   "execution_count": 3,
   "id": "c99b301d-2b91-487f-89a4-4fe4773bd86b",
   "metadata": {},
   "outputs": [
    {
     "name": "stdin",
     "output_type": "stream",
     "text": [
      "Enter a number:  334\n"
     ]
    },
    {
     "name": "stdout",
     "output_type": "stream",
     "text": [
      "Result: 0.029940119760479042\n"
     ]
    }
   ],
   "source": [
    "#When an exception is not handled in Python, it leads to the termination of the program's normal execution flow, and an error message is displayed.\n",
    "try:\n",
    "    num = int(input(\"Enter a number: \"))\n",
    "    result = 10 / num\n",
    "    print(\"Result:\", result)\n",
    "except ValueError:\n",
    "    print(\"Error: Please enter a valid number.\")\n"
   ]
  },
  {
   "cell_type": "markdown",
   "id": "547f6957-6508-429a-a245-23ecee7e1446",
   "metadata": {},
   "source": [
    "Solution - 3\n"
   ]
  },
  {
   "cell_type": "code",
   "execution_count": 2,
   "id": "2535719c-801c-4c80-b3a9-18959dbf3d85",
   "metadata": {},
   "outputs": [
    {
     "name": "stdin",
     "output_type": "stream",
     "text": [
      "Enter a number:  12345\n"
     ]
    },
    {
     "name": "stdout",
     "output_type": "stream",
     "text": [
      "Result: 0.0008100445524503848\n"
     ]
    }
   ],
   "source": [
    "#The try and except statements are used to catch and handle exceptions. \n",
    "try:\n",
    "    num = int(input(\"Enter a number: \"))\n",
    "    result = 10 / num\n",
    "    print(\"Result:\", result)\n",
    "except ZeroDivisionError:\n",
    "    print(\"Error: Cannot divide by zero.\")\n",
    "except ValueError:\n",
    "    print(\"Error: Please enter a valid number.\")\n"
   ]
  },
  {
   "cell_type": "markdown",
   "id": "1afcb4f6-5484-4f70-81e1-3dbce11f2a84",
   "metadata": {},
   "source": [
    "Solution - 4"
   ]
  },
  {
   "cell_type": "code",
   "execution_count": 5,
   "id": "128e846a-aa4f-4abb-9ac5-effd09788cac",
   "metadata": {},
   "outputs": [
    {
     "name": "stdin",
     "output_type": "stream",
     "text": [
      "Enter the numerator:  876575435\n",
      "Enter the denominator:  8787565354322\n"
     ]
    },
    {
     "name": "stdout",
     "output_type": "stream",
     "text": [
      "Division successful\n",
      "Division operation completed\n",
      "Result: 9.975179696033472e-05\n"
     ]
    }
   ],
   "source": [
    "#try , else , finally and raise\n",
    "def divide(a, b):\n",
    "    try:\n",
    "        result = a / b\n",
    "    except ZeroDivisionError:\n",
    "        raise ValueError(\"Cannot divide by zero\")\n",
    "    else:\n",
    "        print(\"Division successful\")\n",
    "        return result\n",
    "    finally:\n",
    "        print(\"Division operation completed\")\n",
    "\n",
    "try:\n",
    "    num1 = int(input(\"Enter the numerator: \"))\n",
    "    num2 = int(input(\"Enter the denominator: \"))\n",
    "    result = divide(num1, num2)\n",
    "    print(\"Result:\", result)\n",
    "except ValueError as e:\n",
    "    print(\"Error:\", e)\n"
   ]
  },
  {
   "cell_type": "markdown",
   "id": "1b14b442-dce3-4c7d-be07-6b685f400da8",
   "metadata": {},
   "source": [
    "Solution - 5"
   ]
  },
  {
   "cell_type": "code",
   "execution_count": 6,
   "id": "624bf1d4-a027-47dd-9580-1fde7483f819",
   "metadata": {},
   "outputs": [
    {
     "name": "stdout",
     "output_type": "stream",
     "text": [
      "Error: Insufficient funds: Balance = 100, Amount = 150\n"
     ]
    }
   ],
   "source": [
    "#Custom exceptions, also known as user-defined exceptions, are exceptions that you create yourself by defining new exception classes in Python.\n",
    "class InsufficientFundsError(Exception):\n",
    "    \"\"\"Exception raised for insufficient account balance.\"\"\"\n",
    "    def __init__(self, balance, amount):\n",
    "        self.balance = balance\n",
    "        self.amount = amount\n",
    "        super().__init__(f\"Insufficient funds: Balance = {balance}, Amount = {amount}\")\n",
    "\n",
    "def withdraw_from_account(balance, amount):\n",
    "    if amount > balance:\n",
    "        raise InsufficientFundsError(balance, amount)\n",
    "    else:\n",
    "        return balance - amount\n",
    "\n",
    "try:\n",
    "    account_balance = 100\n",
    "    withdrawal_amount = 150\n",
    "    new_balance = withdraw_from_account(account_balance, withdrawal_amount)\n",
    "    print(\"Withdrawal successful. New balance:\", new_balance)\n",
    "except InsufficientFundsError as e:\n",
    "    print(\"Error:\", e)\n"
   ]
  },
  {
   "cell_type": "markdown",
   "id": "d28f395e-f788-4db6-a882-92d3e1926ea4",
   "metadata": {},
   "source": [
    "Solution - 6"
   ]
  },
  {
   "cell_type": "code",
   "execution_count": 7,
   "id": "ff0433ce-5f7c-48b5-bc38-65734472dcf8",
   "metadata": {},
   "outputs": [
    {
     "name": "stdout",
     "output_type": "stream",
     "text": [
      "Error: Data is empty\n"
     ]
    }
   ],
   "source": [
    "class MyCustomError(Exception):\n",
    "    \"\"\"Custom exception class.\"\"\"\n",
    "    def __init__(self, message):\n",
    "        self.message = message\n",
    "        super().__init__(message)\n",
    "\n",
    "def process_data(data):\n",
    "    if not data:\n",
    "        raise MyCustomError(\"Data is empty\")\n",
    "\n",
    "try:\n",
    "    data = []\n",
    "    process_data(data)\n",
    "except MyCustomError as e:\n",
    "    print(\"Error:\", e.message)\n"
   ]
  },
  {
   "cell_type": "code",
   "execution_count": null,
   "id": "962d3d7e-4ea1-43af-9bba-73e4f12c6745",
   "metadata": {},
   "outputs": [],
   "source": []
  }
 ],
 "metadata": {
  "kernelspec": {
   "display_name": "Python 3 (ipykernel)",
   "language": "python",
   "name": "python3"
  },
  "language_info": {
   "codemirror_mode": {
    "name": "ipython",
    "version": 3
   },
   "file_extension": ".py",
   "mimetype": "text/x-python",
   "name": "python",
   "nbconvert_exporter": "python",
   "pygments_lexer": "ipython3",
   "version": "3.10.8"
  }
 },
 "nbformat": 4,
 "nbformat_minor": 5
}
